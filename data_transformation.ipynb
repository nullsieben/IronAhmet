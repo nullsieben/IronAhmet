{
 "cells": [
  {
   "cell_type": "code",
   "execution_count": 71,
   "id": "554a9dd4-67f9-4e68-81a5-12d4d6faba7e",
   "metadata": {},
   "outputs": [],
   "source": [
    "import pandas as pd\n",
    "import numpy as np\n",
    "import sklearn\n",
    "import seaborn as sns\n",
    "import matplotlib.pyplot as plt\n",
    "from sklearn.preprocessing import MinMaxScaler, PowerTransformer"
   ]
  },
  {
   "cell_type": "code",
   "execution_count": 7,
   "id": "38a753d5-27f8-4d9e-a0eb-e192a76bc43e",
   "metadata": {},
   "outputs": [],
   "source": [
    "data= pd.read_csv(\"Data_Marketing_Customer_Analysis_Round3.csv\")"
   ]
  },
  {
   "cell_type": "code",
   "execution_count": 8,
   "id": "dd7054cd-57cc-4bed-a10b-ca58d847e33e",
   "metadata": {},
   "outputs": [
    {
     "data": {
      "text/html": [
       "<div>\n",
       "<style scoped>\n",
       "    .dataframe tbody tr th:only-of-type {\n",
       "        vertical-align: middle;\n",
       "    }\n",
       "\n",
       "    .dataframe tbody tr th {\n",
       "        vertical-align: top;\n",
       "    }\n",
       "\n",
       "    .dataframe thead th {\n",
       "        text-align: right;\n",
       "    }\n",
       "</style>\n",
       "<table border=\"1\" class=\"dataframe\">\n",
       "  <thead>\n",
       "    <tr style=\"text-align: right;\">\n",
       "      <th></th>\n",
       "      <th>region</th>\n",
       "      <th>customer_lifetime_value</th>\n",
       "      <th>response</th>\n",
       "      <th>coverage</th>\n",
       "      <th>education</th>\n",
       "      <th>effective_to_date</th>\n",
       "      <th>month</th>\n",
       "      <th>employment_status</th>\n",
       "      <th>gender</th>\n",
       "      <th>income</th>\n",
       "      <th>...</th>\n",
       "      <th>months_since_policy_inception</th>\n",
       "      <th>number_of_open_complaints</th>\n",
       "      <th>number_of_policies</th>\n",
       "      <th>policy_type</th>\n",
       "      <th>policy</th>\n",
       "      <th>renew_offer_type</th>\n",
       "      <th>sales_channel</th>\n",
       "      <th>total_claim_amount</th>\n",
       "      <th>vehicle_class</th>\n",
       "      <th>vehicle_size</th>\n",
       "    </tr>\n",
       "  </thead>\n",
       "  <tbody>\n",
       "    <tr>\n",
       "      <th>0</th>\n",
       "      <td>central</td>\n",
       "      <td>4809</td>\n",
       "      <td>no</td>\n",
       "      <td>basic</td>\n",
       "      <td>college</td>\n",
       "      <td>2/18/11</td>\n",
       "      <td>feb</td>\n",
       "      <td>employed</td>\n",
       "      <td>m</td>\n",
       "      <td>48029</td>\n",
       "      <td>...</td>\n",
       "      <td>52</td>\n",
       "      <td>0</td>\n",
       "      <td>9</td>\n",
       "      <td>corporate auto</td>\n",
       "      <td>corporate l3</td>\n",
       "      <td>offer3</td>\n",
       "      <td>agent</td>\n",
       "      <td>292</td>\n",
       "      <td>four-door car</td>\n",
       "      <td>medsize</td>\n",
       "    </tr>\n",
       "    <tr>\n",
       "      <th>1</th>\n",
       "      <td>west region</td>\n",
       "      <td>2228</td>\n",
       "      <td>no</td>\n",
       "      <td>basic</td>\n",
       "      <td>college</td>\n",
       "      <td>1/18/11</td>\n",
       "      <td>jan</td>\n",
       "      <td>unemployed</td>\n",
       "      <td>f</td>\n",
       "      <td>92260</td>\n",
       "      <td>...</td>\n",
       "      <td>26</td>\n",
       "      <td>0</td>\n",
       "      <td>1</td>\n",
       "      <td>personal auto</td>\n",
       "      <td>personal l3</td>\n",
       "      <td>offer4</td>\n",
       "      <td>call center</td>\n",
       "      <td>744</td>\n",
       "      <td>four-door car</td>\n",
       "      <td>medsize</td>\n",
       "    </tr>\n",
       "    <tr>\n",
       "      <th>2</th>\n",
       "      <td>east</td>\n",
       "      <td>14947</td>\n",
       "      <td>no</td>\n",
       "      <td>basic</td>\n",
       "      <td>bachelor</td>\n",
       "      <td>2/10/11</td>\n",
       "      <td>feb</td>\n",
       "      <td>employed</td>\n",
       "      <td>m</td>\n",
       "      <td>22139</td>\n",
       "      <td>...</td>\n",
       "      <td>31</td>\n",
       "      <td>0</td>\n",
       "      <td>2</td>\n",
       "      <td>personal auto</td>\n",
       "      <td>personal l3</td>\n",
       "      <td>offer3</td>\n",
       "      <td>call center</td>\n",
       "      <td>480</td>\n",
       "      <td>suv</td>\n",
       "      <td>medsize</td>\n",
       "    </tr>\n",
       "    <tr>\n",
       "      <th>3</th>\n",
       "      <td>north west</td>\n",
       "      <td>22332</td>\n",
       "      <td>yes</td>\n",
       "      <td>extended</td>\n",
       "      <td>college</td>\n",
       "      <td>1/11/11</td>\n",
       "      <td>jan</td>\n",
       "      <td>employed</td>\n",
       "      <td>m</td>\n",
       "      <td>49078</td>\n",
       "      <td>...</td>\n",
       "      <td>3</td>\n",
       "      <td>0</td>\n",
       "      <td>2</td>\n",
       "      <td>corporate auto</td>\n",
       "      <td>corporate l3</td>\n",
       "      <td>offer2</td>\n",
       "      <td>branch</td>\n",
       "      <td>484</td>\n",
       "      <td>four-door car</td>\n",
       "      <td>medsize</td>\n",
       "    </tr>\n",
       "    <tr>\n",
       "      <th>4</th>\n",
       "      <td>north west</td>\n",
       "      <td>9025</td>\n",
       "      <td>no</td>\n",
       "      <td>premium</td>\n",
       "      <td>bachelor</td>\n",
       "      <td>1/17/11</td>\n",
       "      <td>jan</td>\n",
       "      <td>medical leave</td>\n",
       "      <td>f</td>\n",
       "      <td>23675</td>\n",
       "      <td>...</td>\n",
       "      <td>31</td>\n",
       "      <td>0</td>\n",
       "      <td>7</td>\n",
       "      <td>personal auto</td>\n",
       "      <td>personal l2</td>\n",
       "      <td>offer1</td>\n",
       "      <td>branch</td>\n",
       "      <td>707</td>\n",
       "      <td>four-door car</td>\n",
       "      <td>medsize</td>\n",
       "    </tr>\n",
       "  </tbody>\n",
       "</table>\n",
       "<p>5 rows × 24 columns</p>\n",
       "</div>"
      ],
      "text/plain": [
       "        region  customer_lifetime_value response  coverage education  \\\n",
       "0      central                     4809       no     basic   college   \n",
       "1  west region                     2228       no     basic   college   \n",
       "2         east                    14947       no     basic  bachelor   \n",
       "3   north west                    22332      yes  extended   college   \n",
       "4   north west                     9025       no   premium  bachelor   \n",
       "\n",
       "  effective_to_date month employment_status gender  income  ...  \\\n",
       "0           2/18/11   feb          employed      m   48029  ...   \n",
       "1           1/18/11   jan        unemployed      f   92260  ...   \n",
       "2           2/10/11   feb          employed      m   22139  ...   \n",
       "3           1/11/11   jan          employed      m   49078  ...   \n",
       "4           1/17/11   jan     medical leave      f   23675  ...   \n",
       "\n",
       "  months_since_policy_inception number_of_open_complaints  number_of_policies  \\\n",
       "0                            52                         0                   9   \n",
       "1                            26                         0                   1   \n",
       "2                            31                         0                   2   \n",
       "3                             3                         0                   2   \n",
       "4                            31                         0                   7   \n",
       "\n",
       "      policy_type        policy  renew_offer_type  sales_channel  \\\n",
       "0  corporate auto  corporate l3            offer3          agent   \n",
       "1   personal auto   personal l3            offer4    call center   \n",
       "2   personal auto   personal l3            offer3    call center   \n",
       "3  corporate auto  corporate l3            offer2         branch   \n",
       "4   personal auto   personal l2            offer1         branch   \n",
       "\n",
       "  total_claim_amount  vehicle_class vehicle_size  \n",
       "0                292  four-door car      medsize  \n",
       "1                744  four-door car      medsize  \n",
       "2                480            suv      medsize  \n",
       "3                484  four-door car      medsize  \n",
       "4                707  four-door car      medsize  \n",
       "\n",
       "[5 rows x 24 columns]"
      ]
     },
     "execution_count": 8,
     "metadata": {},
     "output_type": "execute_result"
    }
   ],
   "source": [
    "data.head()"
   ]
  },
  {
   "cell_type": "code",
   "execution_count": 24,
   "id": "8f4bfeba-b17d-48fe-834a-ac611bf51229",
   "metadata": {},
   "outputs": [
    {
     "name": "stdout",
     "output_type": "stream",
     "text": [
      "<class 'pandas.core.frame.DataFrame'>\n",
      "RangeIndex: 10689 entries, 0 to 10688\n",
      "Data columns (total 24 columns):\n",
      " #   Column                         Non-Null Count  Dtype \n",
      "---  ------                         --------------  ----- \n",
      " 0   region                         10689 non-null  object\n",
      " 1   customer_lifetime_value        10689 non-null  int64 \n",
      " 2   response                       10689 non-null  object\n",
      " 3   coverage                       10689 non-null  object\n",
      " 4   education                      10689 non-null  object\n",
      " 5   effective_to_date              10689 non-null  object\n",
      " 6   month                          10689 non-null  object\n",
      " 7   employment_status              10689 non-null  object\n",
      " 8   gender                         10689 non-null  object\n",
      " 9   income                         10689 non-null  int64 \n",
      " 10  location_code                  10689 non-null  object\n",
      " 11  marital_status                 10689 non-null  object\n",
      " 12  monthly_premium_auto           10689 non-null  int64 \n",
      " 13  months_since_last_claim        10689 non-null  int64 \n",
      " 14  months_since_policy_inception  10689 non-null  int64 \n",
      " 15  number_of_open_complaints      10689 non-null  int64 \n",
      " 16  number_of_policies             10689 non-null  int64 \n",
      " 17  policy_type                    10689 non-null  object\n",
      " 18  policy                         10689 non-null  object\n",
      " 19  renew_offer_type               10689 non-null  object\n",
      " 20  sales_channel                  10689 non-null  object\n",
      " 21  total_claim_amount             10689 non-null  int64 \n",
      " 22  vehicle_class                  10689 non-null  object\n",
      " 23  vehicle_size                   10689 non-null  object\n",
      "dtypes: int64(8), object(16)\n",
      "memory usage: 2.0+ MB\n"
     ]
    }
   ],
   "source": [
    "data.info()"
   ]
  },
  {
   "cell_type": "code",
   "execution_count": 25,
   "id": "637f0ec5-cd9a-40a4-a1c8-8acaff33554c",
   "metadata": {},
   "outputs": [],
   "source": [
    "data=data.drop(columns=[\"effective_to_date\"], axis=1)"
   ]
  },
  {
   "cell_type": "code",
   "execution_count": 26,
   "id": "6b942bbd-95b2-4333-9f90-8137e19b780a",
   "metadata": {},
   "outputs": [
    {
     "data": {
      "image/png": "[encoded data removed]",
      "text/plain": [
       "<Figure size 1152x648 with 2 Axes>"
      ]
     },
     "metadata": {
      "needs_background": "light"
     },
     "output_type": "display_data"
    }
   ],
   "source": [
    "fig=plt.figure(figsize=(16,9))\n",
    "heat= sns.heatmap(data.corr(),annot=True);"
   ]
  },
  {
   "cell_type": "code",
   "execution_count": 27,
   "id": "2b0889b8-21e9-48bb-baa7-46938b136a1c",
   "metadata": {},
   "outputs": [
    {
     "data": {
      "text/plain": [
       "array([0, 3, 1, 2, 4, 5])"
      ]
     },
     "execution_count": 27,
     "metadata": {},
     "output_type": "execute_result"
    }
   ],
   "source": [
    "data[\"number_of_open_complaints\"].unique()"
   ]
  },
  {
   "cell_type": "code",
   "execution_count": 32,
   "id": "a6dea392-9850-4d74-9ff3-a65014724a1d",
   "metadata": {},
   "outputs": [
    {
     "data": {
      "text/plain": [
       "array([ 4809,  2228, 14947, ..., 19228, 23893, 11971])"
      ]
     },
     "execution_count": 32,
     "metadata": {},
     "output_type": "execute_result"
    }
   ],
   "source": [
    "data[\"customer_lifetime_value\"].unique()"
   ]
  },
  {
   "cell_type": "code",
   "execution_count": 33,
   "id": "006128c9-11ff-4919-a022-221bc51b1d7e",
   "metadata": {},
   "outputs": [
    {
     "data": {
      "text/plain": [
       "array([48029, 92260, 22139, ..., 39837, 64195, 68942])"
      ]
     },
     "execution_count": 33,
     "metadata": {},
     "output_type": "execute_result"
    }
   ],
   "source": [
    "data[\"income\"].unique()"
   ]
  },
  {
   "cell_type": "code",
   "execution_count": 34,
   "id": "89cf471c-01c4-48ef-892d-d1beb5679d68",
   "metadata": {},
   "outputs": [
    {
     "data": {
      "text/plain": [
       "array([ 61,  64, 100,  97, 117,  63, 154,  85, 127,  62,  99,  69, 116,\n",
       "       114,  66,  73,  94, 104, 189,  74, 121, 110, 111,  72, 115, 159,\n",
       "       101,  65,  82,  71, 126,  68, 199,  96,  67, 125, 249, 105,  92,\n",
       "        78,  77,  79, 223, 242,  70, 102, 109, 107, 119, 194, 113, 106,\n",
       "       247,  80,  86,  81,  83, 122, 253, 196, 132, 139,  84, 130,  93,\n",
       "       103, 112, 222, 118,  88, 182, 283,  90, 128,  89, 235, 190,  76,\n",
       "        87, 133, 153, 129,  98, 148, 123,  91, 211, 131, 108, 187, 214,\n",
       "       181, 173, 252,  95, 124, 137, 145, 188, 143, 198, 138, 245, 195,\n",
       "       186, 170, 136, 161, 157, 141, 205, 271, 192, 142, 140, 134, 240,\n",
       "       185, 244, 210, 184, 202, 296, 213, 273, 219, 135, 169, 155, 225,\n",
       "       266, 215, 197, 256, 212, 158, 180, 166, 168, 183, 162, 191, 179,\n",
       "       150, 146, 276, 165, 239, 237, 193, 229, 274, 207, 295, 208, 172,\n",
       "       217, 206, 201, 171, 152, 156, 174, 238, 167, 151, 144, 163, 287,\n",
       "       209, 290, 220, 228, 232, 178, 177, 275, 176, 281, 149, 298, 255,\n",
       "       216, 285, 226, 160, 147, 254, 164, 175, 297, 234, 284, 204, 218,\n",
       "       261, 231, 248, 286, 230, 268, 203])"
      ]
     },
     "execution_count": 34,
     "metadata": {},
     "output_type": "execute_result"
    }
   ],
   "source": [
    "data[\"monthly_premium_auto\"].unique()"
   ]
  },
  {
   "cell_type": "code",
   "execution_count": 35,
   "id": "ba8e9584-30f0-45bc-99e6-547ddd7baec3",
   "metadata": {},
   "outputs": [
    {
     "data": {
      "text/plain": [
       "array([ 7,  3, 34, 10, 33,  2,  8, 35, 19, 13,  5, 24, 25,  6, 20, 26, 14,\n",
       "        9, 29, 11,  1, 18, 16, 30, 12,  4, 22, 31, 21, 28, 17, 15, 32, 23,\n",
       "       27,  0])"
      ]
     },
     "execution_count": 35,
     "metadata": {},
     "output_type": "execute_result"
    }
   ],
   "source": [
    "data[\"months_since_last_claim\"].unique()"
   ]
  },
  {
   "cell_type": "code",
   "execution_count": 36,
   "id": "d6ddafcd-259b-49f5-a6dc-7b33a0c0a9a4",
   "metadata": {},
   "outputs": [
    {
     "data": {
      "text/plain": [
       "array([52, 26, 31,  3, 73, 99, 45, 24,  8, 29, 32, 25, 28, 87, 10, 74,  1,\n",
       "       38, 58, 37,  7, 80, 95, 78, 63, 27, 97, 39, 11, 59, 46, 62, 13, 54,\n",
       "       51, 22, 82, 91, 44, 43, 76, 48, 84,  6, 92, 12, 61,  4, 18, 66, 70,\n",
       "       16, 75, 34, 35, 64,  9, 89,  0, 60, 71, 23, 55, 93,  2, 67, 81, 40,\n",
       "       57, 86, 19, 72, 69, 33, 47, 42, 17, 49, 21, 83, 94, 30, 15, 50, 53,\n",
       "       77, 41, 90,  5, 79, 56, 98, 20, 88, 65, 14, 85, 96, 36, 68])"
      ]
     },
     "execution_count": 36,
     "metadata": {},
     "output_type": "execute_result"
    }
   ],
   "source": [
    "data[\"months_since_policy_inception\"].unique()"
   ]
  },
  {
   "cell_type": "code",
   "execution_count": 39,
   "id": "fc75afe9-8994-4c1b-a483-5567fec4b6a1",
   "metadata": {},
   "outputs": [
    {
     "data": {
      "text/plain": [
       "array([9, 1, 2, 7, 4, 3, 6, 8, 5])"
      ]
     },
     "execution_count": 39,
     "metadata": {},
     "output_type": "execute_result"
    }
   ],
   "source": [
    "data[\"number_of_policies\"].unique()"
   ]
  },
  {
   "cell_type": "code",
   "execution_count": 40,
   "id": "84399362-88ca-4ec7-a83d-b0eb328cfd7b",
   "metadata": {},
   "outputs": [
    {
     "data": {
      "text/plain": [
       "array([ 292,  744,  480, ...,  559, 1137, 1621])"
      ]
     },
     "execution_count": 40,
     "metadata": {},
     "output_type": "execute_result"
    }
   ],
   "source": [
    "data[\"total_claim_amount\"].unique()"
   ]
  },
  {
   "cell_type": "code",
   "execution_count": 28,
   "id": "4b0ad0c7-e3c5-4cf8-9993-1d1376e370ed",
   "metadata": {},
   "outputs": [],
   "source": [
    "numerics= data.select_dtypes(include=np.number)"
   ]
  },
  {
   "cell_type": "code",
   "execution_count": 29,
   "id": "bcb5dbfd-dafa-4d74-b7bd-56f189fd2533",
   "metadata": {},
   "outputs": [
    {
     "data": {
      "text/plain": [
       "['customer_lifetime_value',\n",
       " 'income',\n",
       " 'monthly_premium_auto',\n",
       " 'months_since_last_claim',\n",
       " 'months_since_policy_inception',\n",
       " 'number_of_open_complaints',\n",
       " 'number_of_policies',\n",
       " 'total_claim_amount']"
      ]
     },
     "execution_count": 29,
     "metadata": {},
     "output_type": "execute_result"
    }
   ],
   "source": [
    "data.select_dtypes(include=np.number).columns.tolist()"
   ]
  },
  {
   "cell_type": "code",
   "execution_count": 30,
   "id": "7788964b-eb53-44e1-a9de-d3ec9d78cede",
   "metadata": {},
   "outputs": [],
   "source": [
    "categoricals= data.select_dtypes(include=[\"object\"])"
   ]
  },
  {
   "cell_type": "code",
   "execution_count": 31,
   "id": "09a109a3-3224-47b0-b170-a7fb5397fc80",
   "metadata": {},
   "outputs": [
    {
     "data": {
      "text/plain": [
       "['region',\n",
       " 'response',\n",
       " 'coverage',\n",
       " 'education',\n",
       " 'month',\n",
       " 'employment_status',\n",
       " 'gender',\n",
       " 'location_code',\n",
       " 'marital_status',\n",
       " 'policy_type',\n",
       " 'policy',\n",
       " 'renew_offer_type',\n",
       " 'sales_channel',\n",
       " 'vehicle_class',\n",
       " 'vehicle_size']"
      ]
     },
     "execution_count": 31,
     "metadata": {},
     "output_type": "execute_result"
    }
   ],
   "source": [
    "data.select_dtypes(include=[\"object\"]).columns.tolist()"
   ]
  },
  {
   "cell_type": "code",
   "execution_count": 87,
   "id": "de891226-ca38-490e-8600-8a2458c5013c",
   "metadata": {},
   "outputs": [],
   "source": [
    "cat_one_hot_encoded=pd.get_dummies(categoricals, drop_first=True)"
   ]
  },
  {
   "cell_type": "code",
   "execution_count": 88,
   "id": "d47c2eaa-b110-4bc5-a010-a9a62007fb3d",
   "metadata": {},
   "outputs": [
    {
     "data": {
      "text/html": [
       "<div>\n",
       "<style scoped>\n",
       "    .dataframe tbody tr th:only-of-type {\n",
       "        vertical-align: middle;\n",
       "    }\n",
       "\n",
       "    .dataframe tbody tr th {\n",
       "        vertical-align: top;\n",
       "    }\n",
       "\n",
       "    .dataframe thead th {\n",
       "        text-align: right;\n",
       "    }\n",
       "</style>\n",
       "<table border=\"1\" class=\"dataframe\">\n",
       "  <thead>\n",
       "    <tr style=\"text-align: right;\">\n",
       "      <th></th>\n",
       "      <th>region_east</th>\n",
       "      <th>region_north west</th>\n",
       "      <th>region_west region</th>\n",
       "      <th>response_yes</th>\n",
       "      <th>coverage_extended</th>\n",
       "      <th>coverage_premium</th>\n",
       "      <th>education_college</th>\n",
       "      <th>education_doctor</th>\n",
       "      <th>education_high school or below</th>\n",
       "      <th>education_master</th>\n",
       "      <th>...</th>\n",
       "      <th>sales_channel_branch</th>\n",
       "      <th>sales_channel_call center</th>\n",
       "      <th>sales_channel_web</th>\n",
       "      <th>vehicle_class_luxury car</th>\n",
       "      <th>vehicle_class_luxury suv</th>\n",
       "      <th>vehicle_class_sports car</th>\n",
       "      <th>vehicle_class_suv</th>\n",
       "      <th>vehicle_class_two-door car</th>\n",
       "      <th>vehicle_size_medsize</th>\n",
       "      <th>vehicle_size_small</th>\n",
       "    </tr>\n",
       "  </thead>\n",
       "  <tbody>\n",
       "    <tr>\n",
       "      <th>0</th>\n",
       "      <td>0</td>\n",
       "      <td>0</td>\n",
       "      <td>0</td>\n",
       "      <td>0</td>\n",
       "      <td>0</td>\n",
       "      <td>0</td>\n",
       "      <td>1</td>\n",
       "      <td>0</td>\n",
       "      <td>0</td>\n",
       "      <td>0</td>\n",
       "      <td>...</td>\n",
       "      <td>0</td>\n",
       "      <td>0</td>\n",
       "      <td>0</td>\n",
       "      <td>0</td>\n",
       "      <td>0</td>\n",
       "      <td>0</td>\n",
       "      <td>0</td>\n",
       "      <td>0</td>\n",
       "      <td>1</td>\n",
       "      <td>0</td>\n",
       "    </tr>\n",
       "    <tr>\n",
       "      <th>1</th>\n",
       "      <td>0</td>\n",
       "      <td>0</td>\n",
       "      <td>1</td>\n",
       "      <td>0</td>\n",
       "      <td>0</td>\n",
       "      <td>0</td>\n",
       "      <td>1</td>\n",
       "      <td>0</td>\n",
       "      <td>0</td>\n",
       "      <td>0</td>\n",
       "      <td>...</td>\n",
       "      <td>0</td>\n",
       "      <td>1</td>\n",
       "      <td>0</td>\n",
       "      <td>0</td>\n",
       "      <td>0</td>\n",
       "      <td>0</td>\n",
       "      <td>0</td>\n",
       "      <td>0</td>\n",
       "      <td>1</td>\n",
       "      <td>0</td>\n",
       "    </tr>\n",
       "    <tr>\n",
       "      <th>2</th>\n",
       "      <td>1</td>\n",
       "      <td>0</td>\n",
       "      <td>0</td>\n",
       "      <td>0</td>\n",
       "      <td>0</td>\n",
       "      <td>0</td>\n",
       "      <td>0</td>\n",
       "      <td>0</td>\n",
       "      <td>0</td>\n",
       "      <td>0</td>\n",
       "      <td>...</td>\n",
       "      <td>0</td>\n",
       "      <td>1</td>\n",
       "      <td>0</td>\n",
       "      <td>0</td>\n",
       "      <td>0</td>\n",
       "      <td>0</td>\n",
       "      <td>1</td>\n",
       "      <td>0</td>\n",
       "      <td>1</td>\n",
       "      <td>0</td>\n",
       "    </tr>\n",
       "    <tr>\n",
       "      <th>3</th>\n",
       "      <td>0</td>\n",
       "      <td>1</td>\n",
       "      <td>0</td>\n",
       "      <td>1</td>\n",
       "      <td>1</td>\n",
       "      <td>0</td>\n",
       "      <td>1</td>\n",
       "      <td>0</td>\n",
       "      <td>0</td>\n",
       "      <td>0</td>\n",
       "      <td>...</td>\n",
       "      <td>1</td>\n",
       "      <td>0</td>\n",
       "      <td>0</td>\n",
       "      <td>0</td>\n",
       "      <td>0</td>\n",
       "      <td>0</td>\n",
       "      <td>0</td>\n",
       "      <td>0</td>\n",
       "      <td>1</td>\n",
       "      <td>0</td>\n",
       "    </tr>\n",
       "    <tr>\n",
       "      <th>4</th>\n",
       "      <td>0</td>\n",
       "      <td>1</td>\n",
       "      <td>0</td>\n",
       "      <td>0</td>\n",
       "      <td>0</td>\n",
       "      <td>1</td>\n",
       "      <td>0</td>\n",
       "      <td>0</td>\n",
       "      <td>0</td>\n",
       "      <td>0</td>\n",
       "      <td>...</td>\n",
       "      <td>1</td>\n",
       "      <td>0</td>\n",
       "      <td>0</td>\n",
       "      <td>0</td>\n",
       "      <td>0</td>\n",
       "      <td>0</td>\n",
       "      <td>0</td>\n",
       "      <td>0</td>\n",
       "      <td>1</td>\n",
       "      <td>0</td>\n",
       "    </tr>\n",
       "    <tr>\n",
       "      <th>...</th>\n",
       "      <td>...</td>\n",
       "      <td>...</td>\n",
       "      <td>...</td>\n",
       "      <td>...</td>\n",
       "      <td>...</td>\n",
       "      <td>...</td>\n",
       "      <td>...</td>\n",
       "      <td>...</td>\n",
       "      <td>...</td>\n",
       "      <td>...</td>\n",
       "      <td>...</td>\n",
       "      <td>...</td>\n",
       "      <td>...</td>\n",
       "      <td>...</td>\n",
       "      <td>...</td>\n",
       "      <td>...</td>\n",
       "      <td>...</td>\n",
       "      <td>...</td>\n",
       "      <td>...</td>\n",
       "      <td>...</td>\n",
       "      <td>...</td>\n",
       "    </tr>\n",
       "    <tr>\n",
       "      <th>10684</th>\n",
       "      <td>0</td>\n",
       "      <td>0</td>\n",
       "      <td>0</td>\n",
       "      <td>0</td>\n",
       "      <td>0</td>\n",
       "      <td>1</td>\n",
       "      <td>0</td>\n",
       "      <td>0</td>\n",
       "      <td>0</td>\n",
       "      <td>0</td>\n",
       "      <td>...</td>\n",
       "      <td>0</td>\n",
       "      <td>0</td>\n",
       "      <td>1</td>\n",
       "      <td>1</td>\n",
       "      <td>0</td>\n",
       "      <td>0</td>\n",
       "      <td>0</td>\n",
       "      <td>0</td>\n",
       "      <td>1</td>\n",
       "      <td>0</td>\n",
       "    </tr>\n",
       "    <tr>\n",
       "      <th>10685</th>\n",
       "      <td>0</td>\n",
       "      <td>1</td>\n",
       "      <td>0</td>\n",
       "      <td>0</td>\n",
       "      <td>0</td>\n",
       "      <td>0</td>\n",
       "      <td>1</td>\n",
       "      <td>0</td>\n",
       "      <td>0</td>\n",
       "      <td>0</td>\n",
       "      <td>...</td>\n",
       "      <td>1</td>\n",
       "      <td>0</td>\n",
       "      <td>0</td>\n",
       "      <td>0</td>\n",
       "      <td>0</td>\n",
       "      <td>0</td>\n",
       "      <td>0</td>\n",
       "      <td>0</td>\n",
       "      <td>1</td>\n",
       "      <td>0</td>\n",
       "    </tr>\n",
       "    <tr>\n",
       "      <th>10686</th>\n",
       "      <td>0</td>\n",
       "      <td>0</td>\n",
       "      <td>0</td>\n",
       "      <td>0</td>\n",
       "      <td>1</td>\n",
       "      <td>0</td>\n",
       "      <td>0</td>\n",
       "      <td>0</td>\n",
       "      <td>0</td>\n",
       "      <td>0</td>\n",
       "      <td>...</td>\n",
       "      <td>0</td>\n",
       "      <td>0</td>\n",
       "      <td>1</td>\n",
       "      <td>0</td>\n",
       "      <td>1</td>\n",
       "      <td>0</td>\n",
       "      <td>0</td>\n",
       "      <td>0</td>\n",
       "      <td>1</td>\n",
       "      <td>0</td>\n",
       "    </tr>\n",
       "    <tr>\n",
       "      <th>10687</th>\n",
       "      <td>0</td>\n",
       "      <td>0</td>\n",
       "      <td>1</td>\n",
       "      <td>0</td>\n",
       "      <td>0</td>\n",
       "      <td>1</td>\n",
       "      <td>1</td>\n",
       "      <td>0</td>\n",
       "      <td>0</td>\n",
       "      <td>0</td>\n",
       "      <td>...</td>\n",
       "      <td>1</td>\n",
       "      <td>0</td>\n",
       "      <td>0</td>\n",
       "      <td>0</td>\n",
       "      <td>0</td>\n",
       "      <td>0</td>\n",
       "      <td>1</td>\n",
       "      <td>0</td>\n",
       "      <td>1</td>\n",
       "      <td>0</td>\n",
       "    </tr>\n",
       "    <tr>\n",
       "      <th>10688</th>\n",
       "      <td>0</td>\n",
       "      <td>0</td>\n",
       "      <td>0</td>\n",
       "      <td>0</td>\n",
       "      <td>0</td>\n",
       "      <td>0</td>\n",
       "      <td>0</td>\n",
       "      <td>0</td>\n",
       "      <td>0</td>\n",
       "      <td>0</td>\n",
       "      <td>...</td>\n",
       "      <td>0</td>\n",
       "      <td>0</td>\n",
       "      <td>1</td>\n",
       "      <td>0</td>\n",
       "      <td>0</td>\n",
       "      <td>0</td>\n",
       "      <td>1</td>\n",
       "      <td>0</td>\n",
       "      <td>1</td>\n",
       "      <td>0</td>\n",
       "    </tr>\n",
       "  </tbody>\n",
       "</table>\n",
       "<p>10689 rows × 43 columns</p>\n",
       "</div>"
      ],
      "text/plain": [
       "       region_east  region_north west  region_west region  response_yes  \\\n",
       "0                0                  0                   0             0   \n",
       "1                0                  0                   1             0   \n",
       "2                1                  0                   0             0   \n",
       "3                0                  1                   0             1   \n",
       "4                0                  1                   0             0   \n",
       "...            ...                ...                 ...           ...   \n",
       "10684            0                  0                   0             0   \n",
       "10685            0                  1                   0             0   \n",
       "10686            0                  0                   0             0   \n",
       "10687            0                  0                   1             0   \n",
       "10688            0                  0                   0             0   \n",
       "\n",
       "       coverage_extended  coverage_premium  education_college  \\\n",
       "0                      0                 0                  1   \n",
       "1                      0                 0                  1   \n",
       "2                      0                 0                  0   \n",
       "3                      1                 0                  1   \n",
       "4                      0                 1                  0   \n",
       "...                  ...               ...                ...   \n",
       "10684                  0                 1                  0   \n",
       "10685                  0                 0                  1   \n",
       "10686                  1                 0                  0   \n",
       "10687                  0                 1                  1   \n",
       "10688                  0                 0                  0   \n",
       "\n",
       "       education_doctor  education_high school or below  education_master  \\\n",
       "0                     0                               0                 0   \n",
       "1                     0                               0                 0   \n",
       "2                     0                               0                 0   \n",
       "3                     0                               0                 0   \n",
       "4                     0                               0                 0   \n",
       "...                 ...                             ...               ...   \n",
       "10684                 0                               0                 0   \n",
       "10685                 0                               0                 0   \n",
       "10686                 0                               0                 0   \n",
       "10687                 0                               0                 0   \n",
       "10688                 0                               0                 0   \n",
       "\n",
       "       ...  sales_channel_branch  sales_channel_call center  \\\n",
       "0      ...                     0                          0   \n",
       "1      ...                     0                          1   \n",
       "2      ...                     0                          1   \n",
       "3      ...                     1                          0   \n",
       "4      ...                     1                          0   \n",
       "...    ...                   ...                        ...   \n",
       "10684  ...                     0                          0   \n",
       "10685  ...                     1                          0   \n",
       "10686  ...                     0                          0   \n",
       "10687  ...                     1                          0   \n",
       "10688  ...                     0                          0   \n",
       "\n",
       "       sales_channel_web  vehicle_class_luxury car  vehicle_class_luxury suv  \\\n",
       "0                      0                         0                         0   \n",
       "1                      0                         0                         0   \n",
       "2                      0                         0                         0   \n",
       "3                      0                         0                         0   \n",
       "4                      0                         0                         0   \n",
       "...                  ...                       ...                       ...   \n",
       "10684                  1                         1                         0   \n",
       "10685                  0                         0                         0   \n",
       "10686                  1                         0                         1   \n",
       "10687                  0                         0                         0   \n",
       "10688                  1                         0                         0   \n",
       "\n",
       "       vehicle_class_sports car  vehicle_class_suv  \\\n",
       "0                             0                  0   \n",
       "1                             0                  0   \n",
       "2                             0                  1   \n",
       "3                             0                  0   \n",
       "4                             0                  0   \n",
       "...                         ...                ...   \n",
       "10684                         0                  0   \n",
       "10685                         0                  0   \n",
       "10686                         0                  0   \n",
       "10687                         0                  1   \n",
       "10688                         0                  1   \n",
       "\n",
       "       vehicle_class_two-door car  vehicle_size_medsize  vehicle_size_small  \n",
       "0                               0                     1                   0  \n",
       "1                               0                     1                   0  \n",
       "2                               0                     1                   0  \n",
       "3                               0                     1                   0  \n",
       "4                               0                     1                   0  \n",
       "...                           ...                   ...                 ...  \n",
       "10684                           0                     1                   0  \n",
       "10685                           0                     1                   0  \n",
       "10686                           0                     1                   0  \n",
       "10687                           0                     1                   0  \n",
       "10688                           0                     1                   0  \n",
       "\n",
       "[10689 rows x 43 columns]"
      ]
     },
     "execution_count": 88,
     "metadata": {},
     "output_type": "execute_result"
    }
   ],
   "source": [
    "cat_one_hot_encoded"
   ]
  },
  {
   "cell_type": "code",
   "execution_count": 45,
   "id": "b3731bee-7604-4362-86a0-9f43ec89631d",
   "metadata": {},
   "outputs": [
    {
     "data": {
      "image/png": "[encoded data removed]",
      "text/plain": [
       "<Figure size 2880x2160 with 8 Axes>"
      ]
     },
     "metadata": {
      "needs_background": "light"
     },
     "output_type": "display_data"
    }
   ],
   "source": [
    "## first axis\n",
    "fig=plt.figure(figsize=(40,30))\n",
    "\n",
    "plt.subplot(4,2,1)\n",
    "plt.hist(numerics[\"customer_lifetime_value\"]);\n",
    "plt.xlabel(\"customer lifetime value\");\n",
    "\n",
    "#second axis\n",
    "plt.subplot(4,2,2)\n",
    "plt.hist(numerics[\"income\"]);\n",
    "plt.xlabel(\"income\");\n",
    "#plt.title(\"this is a title\")\n",
    "\n",
    "##. third subplot\n",
    "plt.subplot(4,2,3)\n",
    "plt.hist(numerics[\"monthly_premium_auto\"]);\n",
    "plt.xlabel(\"monthly_premium_auto\");\n",
    "\n",
    "## fourth subplot\n",
    "plt.subplot(4,2,4)\n",
    "#plt.plot(x,-x,color=\"#e65ead\")\n",
    "plt.hist(numerics[\"months_since_last_claim\"]);\n",
    "plt.xlabel(\"months since last claim\");\n",
    "\n",
    "plt.subplot(4,2,5)\n",
    "plt.hist(numerics[\"months_since_policy_inception\"]);\n",
    "plt.xlabel(\"months since policy inception\");\n",
    "\n",
    "plt.subplot(4,2,6)\n",
    "plt.hist(numerics[\"number_of_open_complaints\"]);\n",
    "plt.xlabel(\"number of open complaints\");\n",
    "\n",
    "plt.subplot(4,2,7)\n",
    "plt.hist(numerics[\"number_of_policies\"]);\n",
    "plt.xlabel(\"number of policies\");\n",
    "\n",
    "plt.subplot(4,2,8)\n",
    "plt.hist(numerics[\"total_claim_amount\"]);\n",
    "plt.xlabel(\"total claim amount\");"
   ]
  },
  {
   "cell_type": "code",
   "execution_count": null,
   "id": "8fb5df10-c64a-4225-80a4-397dd82fc220",
   "metadata": {},
   "outputs": [],
   "source": []
  },
  {
   "cell_type": "markdown",
   "id": "364a4ffa-c148-4eeb-a970-b83f386e17c5",
   "metadata": {},
   "source": [
    "## Optional"
   ]
  },
  {
   "cell_type": "markdown",
   "id": "244328e3-49ea-4218-86d4-0574fc3b41b0",
   "metadata": {},
   "source": [
    "### varA = income"
   ]
  },
  {
   "cell_type": "code",
   "execution_count": 48,
   "id": "15d3935d-f890-4495-b02f-b070d04d4e5f",
   "metadata": {},
   "outputs": [],
   "source": [
    "varA=numerics[[\"income\"]]"
   ]
  },
  {
   "cell_type": "code",
   "execution_count": 60,
   "id": "714283b1-cab4-4e21-b01c-8d5668a14227",
   "metadata": {},
   "outputs": [
    {
     "data": {
      "text/html": [
       "<div>\n",
       "<style scoped>\n",
       "    .dataframe tbody tr th:only-of-type {\n",
       "        vertical-align: middle;\n",
       "    }\n",
       "\n",
       "    .dataframe tbody tr th {\n",
       "        vertical-align: top;\n",
       "    }\n",
       "\n",
       "    .dataframe thead th {\n",
       "        text-align: right;\n",
       "    }\n",
       "</style>\n",
       "<table border=\"1\" class=\"dataframe\">\n",
       "  <thead>\n",
       "    <tr style=\"text-align: right;\">\n",
       "      <th></th>\n",
       "      <th>income</th>\n",
       "    </tr>\n",
       "  </thead>\n",
       "  <tbody>\n",
       "    <tr>\n",
       "      <th>0</th>\n",
       "      <td>48029</td>\n",
       "    </tr>\n",
       "    <tr>\n",
       "      <th>1</th>\n",
       "      <td>92260</td>\n",
       "    </tr>\n",
       "    <tr>\n",
       "      <th>2</th>\n",
       "      <td>22139</td>\n",
       "    </tr>\n",
       "    <tr>\n",
       "      <th>3</th>\n",
       "      <td>49078</td>\n",
       "    </tr>\n",
       "    <tr>\n",
       "      <th>4</th>\n",
       "      <td>23675</td>\n",
       "    </tr>\n",
       "    <tr>\n",
       "      <th>...</th>\n",
       "      <td>...</td>\n",
       "    </tr>\n",
       "    <tr>\n",
       "      <th>10684</th>\n",
       "      <td>61541</td>\n",
       "    </tr>\n",
       "    <tr>\n",
       "      <th>10685</th>\n",
       "      <td>61146</td>\n",
       "    </tr>\n",
       "    <tr>\n",
       "      <th>10686</th>\n",
       "      <td>39837</td>\n",
       "    </tr>\n",
       "    <tr>\n",
       "      <th>10687</th>\n",
       "      <td>64195</td>\n",
       "    </tr>\n",
       "    <tr>\n",
       "      <th>10688</th>\n",
       "      <td>68942</td>\n",
       "    </tr>\n",
       "  </tbody>\n",
       "</table>\n",
       "<p>10689 rows × 1 columns</p>\n",
       "</div>"
      ],
      "text/plain": [
       "       income\n",
       "0       48029\n",
       "1       92260\n",
       "2       22139\n",
       "3       49078\n",
       "4       23675\n",
       "...       ...\n",
       "10684   61541\n",
       "10685   61146\n",
       "10686   39837\n",
       "10687   64195\n",
       "10688   68942\n",
       "\n",
       "[10689 rows x 1 columns]"
      ]
     },
     "execution_count": 60,
     "metadata": {},
     "output_type": "execute_result"
    }
   ],
   "source": [
    "varA"
   ]
  },
  {
   "cell_type": "code",
   "execution_count": 64,
   "id": "ca19a27a-278f-42ea-943a-4ebc9c4b11d5",
   "metadata": {},
   "outputs": [],
   "source": [
    "varA_scaled=MinMaxScaler().fit_transform(varA)"
   ]
  },
  {
   "cell_type": "code",
   "execution_count": 89,
   "id": "f2ecb4bd-a56b-4f31-a390-6ea72ed2a883",
   "metadata": {},
   "outputs": [
    {
     "data": {
      "text/plain": [
       "array([[0.42239616],\n",
       "       [0.9141577 ],\n",
       "       [0.13455039],\n",
       "       ...,\n",
       "       [0.33131726],\n",
       "       [0.60213021],\n",
       "       [0.6549075 ]])"
      ]
     },
     "execution_count": 89,
     "metadata": {},
     "output_type": "execute_result"
    }
   ],
   "source": [
    "varA_scaled"
   ]
  },
  {
   "cell_type": "code",
   "execution_count": 85,
   "id": "f25ee245-1e33-4b40-a879-3b65c16893c6",
   "metadata": {},
   "outputs": [
    {
     "data": {
      "image/png": "[encoded data removed]",
      "text/plain": [
       "<Figure size 1440x288 with 2 Axes>"
      ]
     },
     "metadata": {
      "needs_background": "light"
     },
     "output_type": "display_data"
    }
   ],
   "source": [
    "fig2=plt.figure(figsize=(20, 4))\n",
    "\n",
    "plt.subplot(1,2,1)\n",
    "plt.hist(varA);\n",
    "plt.xlabel(\"income\");\n",
    "\n",
    "#second axis\n",
    "plt.subplot(1,2,2)\n",
    "plt.hist(varA_scaled);\n",
    "plt.xlabel(\"scaled income\");\n",
    "#plt.title(\"this is a title\")"
   ]
  },
  {
   "cell_type": "code",
   "execution_count": 66,
   "id": "707bdc43-ec49-4126-960b-67df678af978",
   "metadata": {},
   "outputs": [],
   "source": [
    "varB= numerics[[\"customer_lifetime_value\"]]"
   ]
  },
  {
   "cell_type": "code",
   "execution_count": 67,
   "id": "d294fb2e-9734-48df-a2af-a0a11c414cb9",
   "metadata": {},
   "outputs": [
    {
     "data": {
      "text/html": [
       "<div>\n",
       "<style scoped>\n",
       "    .dataframe tbody tr th:only-of-type {\n",
       "        vertical-align: middle;\n",
       "    }\n",
       "\n",
       "    .dataframe tbody tr th {\n",
       "        vertical-align: top;\n",
       "    }\n",
       "\n",
       "    .dataframe thead th {\n",
       "        text-align: right;\n",
       "    }\n",
       "</style>\n",
       "<table border=\"1\" class=\"dataframe\">\n",
       "  <thead>\n",
       "    <tr style=\"text-align: right;\">\n",
       "      <th></th>\n",
       "      <th>customer_lifetime_value</th>\n",
       "    </tr>\n",
       "  </thead>\n",
       "  <tbody>\n",
       "    <tr>\n",
       "      <th>0</th>\n",
       "      <td>4809</td>\n",
       "    </tr>\n",
       "    <tr>\n",
       "      <th>1</th>\n",
       "      <td>2228</td>\n",
       "    </tr>\n",
       "    <tr>\n",
       "      <th>2</th>\n",
       "      <td>14947</td>\n",
       "    </tr>\n",
       "    <tr>\n",
       "      <th>3</th>\n",
       "      <td>22332</td>\n",
       "    </tr>\n",
       "    <tr>\n",
       "      <th>4</th>\n",
       "      <td>9025</td>\n",
       "    </tr>\n",
       "    <tr>\n",
       "      <th>...</th>\n",
       "      <td>...</td>\n",
       "    </tr>\n",
       "    <tr>\n",
       "      <th>10684</th>\n",
       "      <td>15563</td>\n",
       "    </tr>\n",
       "    <tr>\n",
       "      <th>10685</th>\n",
       "      <td>5259</td>\n",
       "    </tr>\n",
       "    <tr>\n",
       "      <th>10686</th>\n",
       "      <td>23893</td>\n",
       "    </tr>\n",
       "    <tr>\n",
       "      <th>10687</th>\n",
       "      <td>11971</td>\n",
       "    </tr>\n",
       "    <tr>\n",
       "      <th>10688</th>\n",
       "      <td>6857</td>\n",
       "    </tr>\n",
       "  </tbody>\n",
       "</table>\n",
       "<p>10689 rows × 1 columns</p>\n",
       "</div>"
      ],
      "text/plain": [
       "       customer_lifetime_value\n",
       "0                         4809\n",
       "1                         2228\n",
       "2                        14947\n",
       "3                        22332\n",
       "4                         9025\n",
       "...                        ...\n",
       "10684                    15563\n",
       "10685                     5259\n",
       "10686                    23893\n",
       "10687                    11971\n",
       "10688                     6857\n",
       "\n",
       "[10689 rows x 1 columns]"
      ]
     },
     "execution_count": 67,
     "metadata": {},
     "output_type": "execute_result"
    }
   ],
   "source": [
    "varB"
   ]
  },
  {
   "cell_type": "code",
   "execution_count": 73,
   "id": "53bd8dc9-e7a7-499f-9eea-3fc97e44aec9",
   "metadata": {},
   "outputs": [],
   "source": [
    "varB_scaled=PowerTransformer().fit_transform(varB)"
   ]
  },
  {
   "cell_type": "code",
   "execution_count": 74,
   "id": "f0ff76bc-7c09-4339-af53-fad4e2bb6819",
   "metadata": {},
   "outputs": [
    {
     "data": {
      "text/plain": [
       "array([[-0.33614341],\n",
       "       [-1.86720472],\n",
       "       [ 1.2922699 ],\n",
       "       ...,\n",
       "       [ 1.79973101],\n",
       "       [ 1.0217405 ],\n",
       "       [ 0.24359374]])"
      ]
     },
     "execution_count": 74,
     "metadata": {},
     "output_type": "execute_result"
    }
   ],
   "source": [
    "varB_scaled"
   ]
  },
  {
   "cell_type": "code",
   "execution_count": null,
   "id": "6722c662-829b-47f7-9bf6-1e17a6746fd4",
   "metadata": {},
   "outputs": [],
   "source": [
    "plt.hist(varB_scaled);\n",
    "plt.xlabel(\"scaled customer lifetime value\");"
   ]
  },
  {
   "cell_type": "code",
   "execution_count": 86,
   "id": "434ab0aa-db54-43de-8fd2-fc71d48bd440",
   "metadata": {},
   "outputs": [
    {
     "data": {
      "image/png": "[encoded data removed]",
      "text/plain": [
       "<Figure size 1440x288 with 2 Axes>"
      ]
     },
     "metadata": {
      "needs_background": "light"
     },
     "output_type": "display_data"
    }
   ],
   "source": [
    "fig3=plt.figure(figsize=(20, 4))\n",
    "\n",
    "plt.subplot(1,2,1)\n",
    "plt.hist(varB);\n",
    "plt.xlabel(\"customer lifetime value\");\n",
    "\n",
    "#second axis\n",
    "plt.subplot(1,2,2)\n",
    "plt.hist(varB_scaled);\n",
    "plt.xlabel(\"scaled customer lifetime value\");\n",
    "#plt.title(\"this is a title\")"
   ]
  },
  {
   "cell_type": "code",
   "execution_count": null,
   "id": "01c232ea-8d1d-4b8b-9093-3dc6b386e47b",
   "metadata": {},
   "outputs": [],
   "source": []
  },
  {
   "cell_type": "code",
   "execution_count": null,
   "id": "6a42daae-7eca-4309-9255-a56dc64f4412",
   "metadata": {},
   "outputs": [],
   "source": []
  }
 ],
 "metadata": {
  "kernelspec": {
   "display_name": "Python 3 (ipykernel)",
   "language": "python",
   "name": "python3"
  },
  "language_info": {
   "codemirror_mode": {
    "name": "ipython",
    "version": 3
   },
   "file_extension": ".py",
   "mimetype": "text/x-python",
   "name": "python",
   "nbconvert_exporter": "python",
   "pygments_lexer": "ipython3",
   "version": "3.9.12"
  }
 },
 "nbformat": 4,
 "nbformat_minor": 5
}
