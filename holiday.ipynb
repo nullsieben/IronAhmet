{
 "cells": [
  {
   "cell_type": "markdown",
   "id": "0499560e-b8dd-43cb-be34-fc3a88978ed1",
   "metadata": {},
   "source": [
    "## Jupyter Notebook Project ##"
   ]
  },
  {
   "cell_type": "markdown",
   "id": "38824011-7526-40d2-93f3-f859d044e3b4",
   "metadata": {},
   "source": [
    "I will introduce me and my holidays preference in this notebook. "
   ]
  },
  {
   "cell_type": "code",
   "execution_count": 1,
   "id": "69fd2703-10d7-4d9c-a12e-42be3127caad",
   "metadata": {},
   "outputs": [
    {
     "name": "stdin",
     "output_type": "stream",
     "text": [
      "Which person are you looking for:  Ahmet\n"
     ]
    }
   ],
   "source": [
    "login = input(\"Which person are you looking for: \")"
   ]
  },
  {
   "cell_type": "code",
   "execution_count": 3,
   "id": "56e6c0cd-c02e-4aae-9d7a-1d38ba610cf1",
   "metadata": {},
   "outputs": [
    {
     "name": "stdout",
     "output_type": "stream",
     "text": [
      "I will introduce you Ahmet and his holidays preference.\n"
     ]
    }
   ],
   "source": [
    "print(\"I will introduce you \" +login +\" and his holidays preference.\")"
   ]
  },
  {
   "cell_type": "markdown",
   "id": "baa85cae-2451-44c8-bd3d-c85c89e76c07",
   "metadata": {},
   "source": [
    "# HERE IS AHMET! #"
   ]
  },
  {
   "cell_type": "markdown",
   "id": "3adc85b2-0d8a-4ef8-90e3-a9baa658ed0a",
   "metadata": {},
   "source": [
    "![](person.JPG)"
   ]
  },
  {
   "cell_type": "markdown",
   "id": "6d6924b4-f171-4a10-8ee6-49dfec8c57d2",
   "metadata": {},
   "source": [
    "## He always prefer sunny places: ##"
   ]
  },
  {
   "cell_type": "markdown",
   "id": "63ec7c2d-f557-4e19-88e1-1104efdbfc2a",
   "metadata": {},
   "source": [
    "![](cardak.JPG)"
   ]
  },
  {
   "cell_type": "markdown",
   "id": "12d96420-ec38-4fe5-9a69-d643ad4f53d0",
   "metadata": {},
   "source": [
    "![](saranda.JPG)"
   ]
  },
  {
   "cell_type": "markdown",
   "id": "9d4bfe4f-ab4f-495b-b79f-588fa0c68c2a",
   "metadata": {},
   "source": [
    "## And where he can meet friends..."
   ]
  },
  {
   "cell_type": "markdown",
   "id": "8af984a8-3021-4314-be19-714685531167",
   "metadata": {},
   "source": [
    "![](ist_üclü.JPG)"
   ]
  },
  {
   "cell_type": "markdown",
   "id": "62e36cad-10f3-4c8f-92c6-08a1428d0f93",
   "metadata": {},
   "source": [
    "![](ist_ferhat.JPG)"
   ]
  },
  {
   "cell_type": "markdown",
   "id": "a3e402c1-7e6d-4bd1-b532-194e298bd155",
   "metadata": {},
   "source": [
    "# So he spends his holidays #\n",
    "\n",
    "- ## <font color=green>with friends</font>\n",
    "- ## <font color=yellow>on sunny weather</font>\n",
    "- ## <font color=blue>near the sea</font>\n"
   ]
  },
  {
   "cell_type": "markdown",
   "id": "c434b21d-9dab-412e-8dc9-bc390eabc2c6",
   "metadata": {},
   "source": []
  },
  {
   "cell_type": "code",
   "execution_count": null,
   "id": "75d1862f-ad59-4099-96f4-f02273ff42ea",
   "metadata": {},
   "outputs": [],
   "source": []
  }
 ],
 "metadata": {
  "kernelspec": {
   "display_name": "Python 3 (ipykernel)",
   "language": "python",
   "name": "python3"
  },
  "language_info": {
   "codemirror_mode": {
    "name": "ipython",
    "version": 3
   },
   "file_extension": ".py",
   "mimetype": "text/x-python",
   "name": "python",
   "nbconvert_exporter": "python",
   "pygments_lexer": "ipython3",
   "version": "3.9.12"
  }
 },
 "nbformat": 4,
 "nbformat_minor": 5
}
