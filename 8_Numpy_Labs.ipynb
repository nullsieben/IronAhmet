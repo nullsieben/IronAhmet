{
 "cells": [
  {
   "cell_type": "markdown",
   "id": "95683c10-f4e9-467b-a527-b65cfac957a9",
   "metadata": {},
   "source": [
    "# numpy exercises\n",
    "\n",
    "This is a collection of exercises that have been collected in the numpy mailing list, on stack overflow\n",
    "and in the numpy documentation. The goal of this collection is to offer a quick reference for both old\n",
    "and new users but also to provide a set of exercises for those who teach.\n",
    "\n",
    "\n",
    "If you find an error or think you've a better way to solve some of them, feel\n",
    "free to open an issue at <https://github.com/rougier/numpy-100>.\n",
    "File automatically generated. See the documentation to update questions/answers/hints programmatically.\n"
   ]
  },
  {
   "cell_type": "code",
   "execution_count": 2,
   "id": "dff1f8a8",
   "metadata": {},
   "outputs": [],
   "source": [
    "#### 1. Import the numpy package under the name `np` (★☆☆)\n",
    "#`hint: import … as`\n",
    "import numpy as np\n"
   ]
  },
  {
   "cell_type": "code",
   "execution_count": 4,
   "id": "73b9cfb2",
   "metadata": {},
   "outputs": [
    {
     "data": {
      "text/plain": [
       "array([0., 0., 0., 0., 0., 0., 0., 0., 0., 0.])"
      ]
     },
     "execution_count": 4,
     "metadata": {},
     "output_type": "execute_result"
    }
   ],
   "source": [
    "#### 2. Create a null vector of size 10 (★☆☆)\n",
    "#`hint: np.zeros`\n",
    "null_vector = np.zeros(10)\n",
    "null_vector"
   ]
  },
  {
   "cell_type": "code",
   "execution_count": 6,
   "id": "8615a390",
   "metadata": {},
   "outputs": [
    {
     "data": {
      "text/plain": [
       "array([0., 0., 0., 0., 1., 0., 0., 0., 0., 0.])"
      ]
     },
     "execution_count": 6,
     "metadata": {},
     "output_type": "execute_result"
    }
   ],
   "source": [
    "#### 3. Create a null vector of size 10 but the fifth value which is 1 (★☆☆)\n",
    "#`hint: array[4]`\n",
    "\n",
    "null_vector[4]=1\n",
    "null_vector"
   ]
  },
  {
   "cell_type": "code",
   "execution_count": 7,
   "id": "9e09215a",
   "metadata": {},
   "outputs": [
    {
     "data": {
      "text/plain": [
       "array([10, 11, 12, 13, 14, 15, 16, 17, 18, 19, 20, 21, 22, 23, 24, 25, 26,\n",
       "       27, 28, 29, 30, 31, 32, 33, 34, 35, 36, 37, 38, 39, 40, 41, 42, 43,\n",
       "       44, 45, 46, 47, 48, 49])"
      ]
     },
     "execution_count": 7,
     "metadata": {},
     "output_type": "execute_result"
    }
   ],
   "source": [
    "#### 4. Create a vector with values ranging from 10 to 49 (★☆☆)\n",
    "#`hint: arange\n",
    "arange_vector= np.arange(10,50)\n",
    "arange_vector"
   ]
  },
  {
   "cell_type": "code",
   "execution_count": 11,
   "id": "15018341",
   "metadata": {},
   "outputs": [
    {
     "data": {
      "text/plain": [
       "array([[0, 1, 2],\n",
       "       [3, 4, 5],\n",
       "       [6, 7, 8]])"
      ]
     },
     "execution_count": 11,
     "metadata": {},
     "output_type": "execute_result"
    }
   ],
   "source": [
    "#### 5. Create a 3x3 matrix with values ranging from 0 to 8 (★☆☆)\n",
    "#`hint: reshape`\n",
    "reshape_vector=np.arange(0,9).reshape(3,3)\n",
    "reshape_vector"
   ]
  },
  {
   "cell_type": "code",
   "execution_count": 31,
   "id": "0c1b8ef7",
   "metadata": {},
   "outputs": [
    {
     "name": "stdout",
     "output_type": "stream",
     "text": [
      "[0 1 4]\n"
     ]
    }
   ],
   "source": [
    "#### 6. Find indices of non-zero elements from [1,2,0,0,4,0] (★☆☆)\n",
    "#`hint: np.nonzero`\n",
    "\n",
    "non_zero = np.array([1, 2, 0, 0, 4, 0])\n",
    "indices = np.nonzero(non_zero)[0]\n",
    "\n",
    "print(indices)"
   ]
  },
  {
   "cell_type": "code",
   "execution_count": 19,
   "id": "1384e7ee",
   "metadata": {},
   "outputs": [
    {
     "data": {
      "text/plain": [
       "array([[1., 0., 0.],\n",
       "       [0., 1., 0.],\n",
       "       [0., 0., 1.]])"
      ]
     },
     "execution_count": 19,
     "metadata": {},
     "output_type": "execute_result"
    }
   ],
   "source": [
    "#### 7. Create a 3x3 identity matrix (★☆☆)\n",
    "#`hint: np.eye`\n",
    "identity_three= np.eye(3,3)\n",
    "\n",
    "identity_three"
   ]
  },
  {
   "cell_type": "code",
   "execution_count": 51,
   "id": "c1e2a3bf",
   "metadata": {},
   "outputs": [
    {
     "data": {
      "text/plain": [
       "array([[[0.09485761, 0.59124504, 0.30335126],\n",
       "        [0.2868663 , 0.41332028, 0.61793715],\n",
       "        [0.30981576, 0.57554531, 0.86789465]],\n",
       "\n",
       "       [[0.67864044, 0.97615579, 0.52661403],\n",
       "        [0.24811607, 0.86329608, 0.54781829],\n",
       "        [0.79449616, 0.75076007, 0.2464699 ]],\n",
       "\n",
       "       [[0.33593216, 0.16085913, 0.9434356 ],\n",
       "        [0.31092634, 0.75446194, 0.42507717],\n",
       "        [0.80186244, 0.59488934, 0.13071723]]])"
      ]
     },
     "execution_count": 51,
     "metadata": {},
     "output_type": "execute_result"
    }
   ],
   "source": [
    "#### 8. Create a 3x3x3 array with random values (★☆☆)\n",
    "#`hint: np.random.random`\n",
    "\n",
    "random_three=np.random.random((3,3,3)) #1. üc blok sayisi, 2. üc her blogun kalinligi, 3. üc de üc sütun\n",
    "random_three"
   ]
  },
  {
   "cell_type": "code",
   "execution_count": 38,
   "id": "236f829f",
   "metadata": {},
   "outputs": [
    {
     "name": "stdout",
     "output_type": "stream",
     "text": [
      "Minimum value: 0.04379985766090888.\n",
      "Maximum value: 0.9847453826947185.\n"
     ]
    }
   ],
   "source": [
    "#### 9. Create a 10x10 array with random values and find the minimum and maximum values (★☆☆)\n",
    "#`hint: min, max`\n",
    "\n",
    "random_ten= np.random.random((10,10))\n",
    "\n",
    "print(f'Minimum value: {random_ten.min()}.')\n",
    "print(f'Maximum value: {random_ten.max()}.')"
   ]
  },
  {
   "cell_type": "code",
   "execution_count": 41,
   "id": "6912b9ac",
   "metadata": {},
   "outputs": [
    {
     "name": "stdout",
     "output_type": "stream",
     "text": [
      "Mean value of random_thirty is 0.5884857852426714.\n"
     ]
    }
   ],
   "source": [
    "#### 10. Create a random vector of size 30 and find the mean value (★☆☆)\n",
    "#`hint: mean`\n",
    "\n",
    "random_thirty= np.random.random((30))\n",
    "print(f'Mean value of random_thirty is {random_thirty.mean()}.')"
   ]
  },
  {
   "cell_type": "code",
   "execution_count": 42,
   "id": "7be65432-6723-4386-b52f-dccd150d6a1d",
   "metadata": {},
   "outputs": [
    {
     "data": {
      "text/plain": [
       "array([0.84494227, 0.70343164, 0.08204401, 0.26334729, 0.89335096,\n",
       "       0.89734112, 0.91695197, 0.99759171, 0.48604934, 0.55023511,\n",
       "       0.707407  , 0.07669126, 0.09824092, 0.56759673, 0.95573246,\n",
       "       0.85958731, 0.99366207, 0.22977071, 0.20631615, 0.66151554,\n",
       "       0.4498114 , 0.69076443, 0.37373507, 0.08192645, 0.58094913,\n",
       "       0.70871983, 0.28424294, 0.76786443, 0.92571439, 0.79903992])"
      ]
     },
     "execution_count": 42,
     "metadata": {},
     "output_type": "execute_result"
    }
   ],
   "source": [
    "random_thirty"
   ]
  },
  {
   "cell_type": "raw",
   "id": "cc6d7baf-d0a7-446b-a547-b933e1e69378",
   "metadata": {},
   "source": []
  },
  {
   "cell_type": "code",
   "execution_count": 57,
   "id": "8cd89f72",
   "metadata": {},
   "outputs": [
    {
     "data": {
      "text/plain": [
       "array([[1, 0, 0, 0, 0],\n",
       "       [0, 2, 0, 0, 0],\n",
       "       [0, 0, 3, 0, 0],\n",
       "       [0, 0, 0, 4, 0],\n",
       "       [0, 0, 0, 0, 0]])"
      ]
     },
     "execution_count": 57,
     "metadata": {},
     "output_type": "execute_result"
    }
   ],
   "source": [
    "#### 11. Create a 5x5 matrix with values 1,2,3,4 just below the diagonal (★☆☆)\n",
    "#`hint: np.diag`\n",
    "\n",
    "diagonal = np.diag(np.array([1,2,3,4,0]))\n",
    "diagonal"
   ]
  },
  {
   "cell_type": "code",
   "execution_count": 62,
   "id": "cd0f6b9f",
   "metadata": {},
   "outputs": [
    {
     "data": {
      "text/plain": [
       "array([[ 0.80881187,  1.21743871, -0.0630356 , -1.06630237,  0.85197417],\n",
       "       [ 0.86877287, -0.02748049, -1.2685134 ,  1.22705461,  0.88901237],\n",
       "       [-0.31796064,  0.20079035,  1.03512085,  1.35777222, -0.87100051],\n",
       "       [-0.06725169, -1.34368148, -1.75131303,  0.62214056,  1.26006662],\n",
       "       [ 0.38688163, -0.99174327, -1.82627587, -0.03612896, -1.0951495 ]])"
      ]
     },
     "execution_count": 62,
     "metadata": {},
     "output_type": "execute_result"
    }
   ],
   "source": [
    "#### 12. Normalize a 5x5 random matrix (★☆☆)\n",
    "#`hint: (x -mean)/std`\n",
    "\n",
    "random_norm= np.random.random((5,5))\n",
    "(random_norm-random_norm.mean())/random_norm.std()"
   ]
  },
  {
   "cell_type": "code",
   "execution_count": 74,
   "id": "b4ce75fe",
   "metadata": {},
   "outputs": [
    {
     "data": {
      "text/plain": [
       "array([6, 7, 8, 9])"
      ]
     },
     "execution_count": 74,
     "metadata": {},
     "output_type": "execute_result"
    }
   ],
   "source": [
    "#### 13. How to find common values between two arrays? (★☆☆)\n",
    "#`hint: np.intersect1d`\n",
    "\n",
    "common_1=np.arange(0,10).reshape(2,5)\n",
    "common_2=np.arange(6,16).reshape(5,2)\n",
    "common_3=np.intersect1d(common_1, common_2)\n",
    "\n",
    "common_3"
   ]
  },
  {
   "cell_type": "code",
   "execution_count": 73,
   "id": "626d48c9",
   "metadata": {},
   "outputs": [
    {
     "data": {
      "text/plain": [
       "array([0.00888075, 0.0614132 , 0.15581665, 0.17685861, 0.22172957,\n",
       "       0.47763698, 0.48849312, 0.50748151, 0.6306971 , 0.80273004])"
      ]
     },
     "execution_count": 73,
     "metadata": {},
     "output_type": "execute_result"
    }
   ],
   "source": [
    "#### 14. Create a random vector of size 10 and sort it (★★☆)\n",
    "#`hint: sort`\n",
    "\n",
    "random_vector= np.random.random((10))\n",
    "random_vector.sort()\n",
    "\n",
    "random_vector"
   ]
  },
  {
   "cell_type": "code",
   "execution_count": 82,
   "id": "a4d4f564",
   "metadata": {},
   "outputs": [
    {
     "data": {
      "text/plain": [
       "array([0.29972027, 0.1422432 , 0.09536661, 0.34836798, 0.07968392,\n",
       "       0.61950323, 0.87139218, 0.90244832, 0.93920752, 0.82395994])"
      ]
     },
     "execution_count": 82,
     "metadata": {},
     "output_type": "execute_result"
    }
   ],
   "source": [
    "#### 15. Create random vector of size 10 and replace the maximum value by 0 (★★☆)\n",
    "#`hint: argmax`\n",
    "\n",
    "random_max= np.random.random((10))\n",
    "random_max"
   ]
  },
  {
   "cell_type": "code",
   "execution_count": 83,
   "id": "41049177-a866-4820-916d-0e520a50eb82",
   "metadata": {},
   "outputs": [
    {
     "data": {
      "text/plain": [
       "array([0.29972027, 0.1422432 , 0.09536661, 0.34836798, 0.07968392,\n",
       "       0.61950323, 0.87139218, 0.90244832, 0.        , 0.82395994])"
      ]
     },
     "execution_count": 83,
     "metadata": {},
     "output_type": "execute_result"
    }
   ],
   "source": [
    "random_max[random_max.argmax()]=0\n",
    "random_max"
   ]
  },
  {
   "cell_type": "code",
   "execution_count": null,
   "id": "917ab4dd",
   "metadata": {},
   "outputs": [],
   "source": [
    "#### 16. Subtract the mean of each row of a matrix (★★☆)\n",
    "#`hint: mean(axis=,keepdims=)`\n",
    "\n",
    "reshape_vector=np.arange(0,9).reshape(3,3)\n",
    "\n",
    "#### 17. How to get the n largest values of an array (★★★)\n",
    "`Z = np.arange(10000)\n",
    "np.random.shuffle(Z)\n",
    "n = 5\n",
    "hint: np.argsort | np.argpartition`\n",
    "\n",
    "#### 18. Create a random 5*3 matrix and replace items that are larger than 4 by their squares ( Example:  6 --> 36) \n",
    "`hint: np.where`\n"
   ]
  },
  {
   "cell_type": "code",
   "execution_count": 93,
   "id": "0b19bc68-0efc-48b3-bb93-9894f5ae6d26",
   "metadata": {},
   "outputs": [
    {
     "data": {
      "text/plain": [
       "array([[0, 1, 2],\n",
       "       [3, 4, 5],\n",
       "       [6, 7, 8]])"
      ]
     },
     "execution_count": 93,
     "metadata": {},
     "output_type": "execute_result"
    }
   ],
   "source": [
    "reshape_vector=np.arange(0,9).reshape(3,3)\n",
    "reshape_vector"
   ]
  },
  {
   "cell_type": "code",
   "execution_count": 101,
   "id": "893cdbf7-788e-4cf3-ac07-04f52ad1e306",
   "metadata": {},
   "outputs": [
    {
     "data": {
      "text/plain": [
       "array([[1.],\n",
       "       [4.],\n",
       "       [7.]])"
      ]
     },
     "execution_count": 101,
     "metadata": {},
     "output_type": "execute_result"
    }
   ],
   "source": [
    "reshape_vector.mean(axis=1, keepdims=True)"
   ]
  },
  {
   "cell_type": "code",
   "execution_count": 3,
   "id": "513640b8-cf03-44f7-b81f-c32790d8fd28",
   "metadata": {},
   "outputs": [],
   "source": [
    "largest= np.arange(0,9).reshape(3,3)"
   ]
  },
  {
   "cell_type": "code",
   "execution_count": 4,
   "id": "2ef0a5e4-c651-4b6c-8706-6b1792383724",
   "metadata": {},
   "outputs": [
    {
     "data": {
      "text/plain": [
       "array([[0, 1, 2],\n",
       "       [3, 4, 5],\n",
       "       [6, 7, 8]])"
      ]
     },
     "execution_count": 4,
     "metadata": {},
     "output_type": "execute_result"
    }
   ],
   "source": [
    "largest"
   ]
  },
  {
   "cell_type": "code",
   "execution_count": 5,
   "id": "4bd81894-607c-4d38-ba6e-140f3d46d522",
   "metadata": {},
   "outputs": [],
   "source": [
    "np.random.shuffle(largest)"
   ]
  },
  {
   "cell_type": "code",
   "execution_count": 6,
   "id": "8aa67753-d433-4532-8f1d-f15cf0a915a0",
   "metadata": {},
   "outputs": [
    {
     "data": {
      "text/plain": [
       "array([[3, 4, 5],\n",
       "       [6, 7, 8],\n",
       "       [0, 1, 2]])"
      ]
     },
     "execution_count": 6,
     "metadata": {},
     "output_type": "execute_result"
    }
   ],
   "source": [
    "largest"
   ]
  },
  {
   "cell_type": "code",
   "execution_count": 114,
   "id": "ebb7cd38-8596-4087-8702-e76bac31a90a",
   "metadata": {},
   "outputs": [],
   "source": [
    "largest.sort()"
   ]
  },
  {
   "cell_type": "code",
   "execution_count": 115,
   "id": "b0a91457-4ca7-463a-b056-8d50a76febf4",
   "metadata": {},
   "outputs": [
    {
     "data": {
      "text/plain": [
       "array([[3, 4, 5],\n",
       "       [6, 7, 8],\n",
       "       [0, 1, 2]])"
      ]
     },
     "execution_count": 115,
     "metadata": {},
     "output_type": "execute_result"
    }
   ],
   "source": [
    "largest"
   ]
  },
  {
   "cell_type": "code",
   "execution_count": 116,
   "id": "9d246cdb-f134-4d51-a432-eace88745d14",
   "metadata": {},
   "outputs": [
    {
     "data": {
      "text/plain": [
       "array([[0, 1, 2],\n",
       "       [0, 1, 2],\n",
       "       [0, 1, 2]])"
      ]
     },
     "execution_count": 116,
     "metadata": {},
     "output_type": "execute_result"
    }
   ],
   "source": [
    "np.argsort(largest)"
   ]
  },
  {
   "cell_type": "code",
   "execution_count": null,
   "id": "aec371f2-fefa-4969-98cc-4a96939d7a19",
   "metadata": {},
   "outputs": [],
   "source": []
  }
 ],
 "metadata": {
  "kernelspec": {
   "display_name": "Python 3 (ipykernel)",
   "language": "python",
   "name": "python3"
  },
  "language_info": {
   "codemirror_mode": {
    "name": "ipython",
    "version": 3
   },
   "file_extension": ".py",
   "mimetype": "text/x-python",
   "name": "python",
   "nbconvert_exporter": "python",
   "pygments_lexer": "ipython3",
   "version": "3.9.12"
  }
 },
 "nbformat": 4,
 "nbformat_minor": 5
}
