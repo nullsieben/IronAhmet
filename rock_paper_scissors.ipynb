{
 "cells": [
  {
   "cell_type": "code",
   "execution_count": 42,
   "id": "f123d6a0-7d88-4f45-aa33-52315ada80b4",
   "metadata": {},
   "outputs": [],
   "source": [
    "import random\n",
    "\n",
    "def rps():\n",
    "    gestures=[\"rock\", \"paper\", \"scissors\"]\n",
    "    n_rounds=input(\"Please enter the maximum number of rounds: \")\n",
    "    \n",
    "    while int(n_rounds) is not int:\n",
    "        n_rounds=input(\"Please enter the maximum number of rounds: \")\n",
    "    \n",
    "    #while True:\n",
    "    \n",
    "    #while (type(int(n_rounds))!=int):\n",
    "    #   n_rounds=input(\"The maximum number of rounds must be a number! Plese enter the maximum number of rounds: \")\n",
    "    #try: int(n_rounds)\n",
    "        \n",
    "    #except:\n",
    "    #   print(\"The maximum number of rounds must be a number! Plese enter the maximum number of rounds: \")\n",
    "    #   return None\n",
    "    \n",
    "    while (int(n_rounds)%2==0):\n",
    "        n_rounds=input(\"The maximum number of rounds should be odd! Plese enter the maximum number of rounds: \")\n",
    "          \n",
    "    rounds_to_win= (int(n_rounds)+1)/2\n",
    "\n",
    "    def cpu_gesture():\n",
    "        return random.choice(gestures)\n",
    "    \n",
    "    #cpu_gesture()\n",
    "\n",
    "    def player_gesture():\n",
    "        player_move= input(\"Please choose one of the 3 gestures (rock, paper or scissors): \")\n",
    "        while (player_move!='rock') and (player_move!='paper') and (player_move!='scissors'):\n",
    "            player_move=input(\"The gesture should be rock, paper or scissors! Please choose one of the 3 gestures: \")\n",
    "        return player_move\n",
    "    \n",
    "    #player_gesture()\n",
    "\n",
    "    def win():\n",
    "        cpu_win=0\n",
    "        player_win=0\n",
    "\n",
    "        while (cpu_win<rounds_to_win) and (player_win<rounds_to_win):\n",
    "\n",
    "            cpu=cpu_gesture()\n",
    "            player=player_gesture()\n",
    "\n",
    "            if (cpu==player):\n",
    "                print(f\"Both of you are a {cpu}. It's a tie. Try again!\")\n",
    "\n",
    "            if (cpu==\"paper\") and (player==\"rock\"):\n",
    "                print (\"Computer is paper, you are rock. Computer wins!\")       \n",
    "                cpu_win+=1\n",
    "                print (f\"You: {player_win}   Computer: {cpu_win}\")\n",
    "\n",
    "            if (cpu==\"paper\") and (player==\"scissors\"):           \n",
    "                print(\"Computer is paper, you are scissors. You win!\")\n",
    "                player_win+=1\n",
    "                print (f\"You: {player_win}   Computer: {cpu_win}\")\n",
    "\n",
    "            if (cpu==\"rock\") and (player==\"paper\"):\n",
    "                print(\"Computer is rock, you are paper. You win!\")\n",
    "                player_win+=1\n",
    "                print (f\"You: {player_win}   Computer: {cpu_win}\")\n",
    "\n",
    "            if (cpu==\"rock\") and (player== \"scissors\"):\n",
    "                print(\"Computer is rock, you are scissors. Computer wins!\")\n",
    "                cpu_win+=1\n",
    "                print (f\"You: {player_win}   Computer: {cpu_win}\")\n",
    "\n",
    "            if (cpu==\"scissors\") and (player==\"paper\"):\n",
    "                print(\"Computer is scissors, you are paper. Computer wins!\")\n",
    "                cpu_win+=1\n",
    "                print (f\"You: {player_win}   Computer: {cpu_win}\")\n",
    "\n",
    "            if (cpu==\"scissors\") and (player==\"rock\"):\n",
    "                print(\"Computer is scissors, you are rock. You win!\")\n",
    "                player_win+=1\n",
    "                print (f\"You: {player_win}   Computer: {cpu_win}\")\n",
    "\n",
    "        if (cpu_win==rounds_to_win):\n",
    "            print(f\"COMPUTER HAS GAINED {cpu_win} OF {n_rounds} POINTS. COMPUTER HAS WON THE GAME!\")\n",
    "\n",
    "        if (player_win==rounds_to_win):\n",
    "            print(f\"YOU HAVE GAINED {player_win} OF {n_rounds} POINTS. YOU HAVE WON THE GAME!\")\n",
    "    win()"
   ]
  },
  {
   "cell_type": "code",
   "execution_count": 43,
   "id": "c8325204-ade1-47dc-bb83-9cb5ab63efdd",
   "metadata": {},
   "outputs": [
    {
     "name": "stdin",
     "output_type": "stream",
     "text": [
      "Please enter the maximum number of rounds:  yes\n"
     ]
    },
    {
     "ename": "ValueError",
     "evalue": "invalid literal for int() with base 10: 'yes'",
     "output_type": "error",
     "traceback": [
      "\u001b[0;31m---------------------------------------------------------------------------\u001b[0m",
      "\u001b[0;31mValueError\u001b[0m                                Traceback (most recent call last)",
      "Input \u001b[0;32mIn [43]\u001b[0m, in \u001b[0;36m<cell line: 1>\u001b[0;34m()\u001b[0m\n\u001b[0;32m----> 1\u001b[0m \u001b[43mrps\u001b[49m\u001b[43m(\u001b[49m\u001b[43m)\u001b[49m\n",
      "Input \u001b[0;32mIn [42]\u001b[0m, in \u001b[0;36mrps\u001b[0;34m()\u001b[0m\n\u001b[1;32m      4\u001b[0m gestures\u001b[38;5;241m=\u001b[39m[\u001b[38;5;124m\"\u001b[39m\u001b[38;5;124mrock\u001b[39m\u001b[38;5;124m\"\u001b[39m, \u001b[38;5;124m\"\u001b[39m\u001b[38;5;124mpaper\u001b[39m\u001b[38;5;124m\"\u001b[39m, \u001b[38;5;124m\"\u001b[39m\u001b[38;5;124mscissors\u001b[39m\u001b[38;5;124m\"\u001b[39m]\n\u001b[1;32m      5\u001b[0m n_rounds\u001b[38;5;241m=\u001b[39m\u001b[38;5;28minput\u001b[39m(\u001b[38;5;124m\"\u001b[39m\u001b[38;5;124mPlease enter the maximum number of rounds: \u001b[39m\u001b[38;5;124m\"\u001b[39m)\n\u001b[0;32m----> 7\u001b[0m \u001b[38;5;28;01mwhile\u001b[39;00m \u001b[38;5;28;43mint\u001b[39;49m\u001b[43m(\u001b[49m\u001b[43mn_rounds\u001b[49m\u001b[43m)\u001b[49m \u001b[38;5;129;01mis\u001b[39;00m \u001b[38;5;129;01mnot\u001b[39;00m \u001b[38;5;28mint\u001b[39m:\n\u001b[1;32m      8\u001b[0m     n_rounds\u001b[38;5;241m=\u001b[39m\u001b[38;5;28minput\u001b[39m(\u001b[38;5;124m\"\u001b[39m\u001b[38;5;124mPlease enter the maximum number of rounds: \u001b[39m\u001b[38;5;124m\"\u001b[39m)\n\u001b[1;32m     10\u001b[0m \u001b[38;5;66;03m#while True:\u001b[39;00m\n\u001b[1;32m     11\u001b[0m \n\u001b[1;32m     12\u001b[0m \u001b[38;5;66;03m#while (type(int(n_rounds))!=int):\u001b[39;00m\n\u001b[0;32m   (...)\u001b[0m\n\u001b[1;32m     17\u001b[0m \u001b[38;5;66;03m#   print(\"The maximum number of rounds must be a number! Plese enter the maximum number of rounds: \")\u001b[39;00m\n\u001b[1;32m     18\u001b[0m \u001b[38;5;66;03m#   return None\u001b[39;00m\n",
      "\u001b[0;31mValueError\u001b[0m: invalid literal for int() with base 10: 'yes'"
     ]
    }
   ],
   "source": [
    "rps()"
   ]
  },
  {
   "cell_type": "code",
   "execution_count": null,
   "id": "888f2042-52d7-479a-b19f-fe2ecb230735",
   "metadata": {},
   "outputs": [],
   "source": []
  },
  {
   "cell_type": "code",
   "execution_count": null,
   "id": "98e90d55-e2ef-4557-8bec-9a08ce03cee1",
   "metadata": {},
   "outputs": [],
   "source": []
  }
 ],
 "metadata": {
  "kernelspec": {
   "display_name": "Python 3 (ipykernel)",
   "language": "python",
   "name": "python3"
  },
  "language_info": {
   "codemirror_mode": {
    "name": "ipython",
    "version": 3
   },
   "file_extension": ".py",
   "mimetype": "text/x-python",
   "name": "python",
   "nbconvert_exporter": "python",
   "pygments_lexer": "ipython3",
   "version": "3.9.12"
  }
 },
 "nbformat": 4,
 "nbformat_minor": 5
}
