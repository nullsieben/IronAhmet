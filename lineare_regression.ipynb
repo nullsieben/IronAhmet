{
 "cells": [
  {
   "cell_type": "code",
   "execution_count": 1,
   "id": "97b9d049-a425-4227-9209-4f677f489d77",
   "metadata": {},
   "outputs": [],
   "source": [
    "import numpy as np\n",
    "import pandas as pd\n",
    "import matplotlib.pyplot as plt\n",
    "%matplotlib inline\n",
    "from sklearn.preprocessing import MinMaxScaler, PowerTransformer\n",
    "\n",
    "from sklearn.compose import ColumnTransformer\n",
    "from sklearn.linear_model import LinearRegression\n",
    "from sklearn.model_selection import train_test_split\n",
    "\n",
    "import statsmodels.api as sm\n",
    "from sklearn.metrics import r2_score\n",
    "from sklearn.metrics import mean_squared_error as mse\n",
    "from sklearn.metrics import mean_absolute_error as mae"
   ]
  },
  {
   "cell_type": "code",
   "execution_count": 2,
   "id": "c96bf459-ed63-4edf-8e3b-5ab337cc2af0",
   "metadata": {},
   "outputs": [],
   "source": [
    "data= pd.read_csv(\"Data_Marketing_Customer_Analysis_Round3.csv\")"
   ]
  },
  {
   "cell_type": "code",
   "execution_count": 3,
   "id": "280a91f2-050a-4497-a157-f5b9844a99be",
   "metadata": {},
   "outputs": [],
   "source": [
    "data=data.drop(columns=[\"effective_to_date\"], axis=1)"
   ]
  },
  {
   "cell_type": "code",
   "execution_count": 4,
   "id": "a09bda4d-d181-4e25-9209-df735be341c6",
   "metadata": {},
   "outputs": [],
   "source": [
    "X= data.drop([\"total_claim_amount\"], axis=1)\n",
    "y= data[\"total_claim_amount\"]"
   ]
  },
  {
   "cell_type": "code",
   "execution_count": 5,
   "id": "8a3d2ff2-c2a9-4614-8546-12c110a631d5",
   "metadata": {},
   "outputs": [],
   "source": [
    "Xtrain, Xtest, ytrain, ytest = train_test_split(X,y,test_size=0.20, random_state=42)"
   ]
  },
  {
   "cell_type": "code",
   "execution_count": 6,
   "id": "a924dec6-3622-403b-a69a-c9a7117b4647",
   "metadata": {},
   "outputs": [
    {
     "data": {
      "text/html": [
       "<div>\n",
       "<style scoped>\n",
       "    .dataframe tbody tr th:only-of-type {\n",
       "        vertical-align: middle;\n",
       "    }\n",
       "\n",
       "    .dataframe tbody tr th {\n",
       "        vertical-align: top;\n",
       "    }\n",
       "\n",
       "    .dataframe thead th {\n",
       "        text-align: right;\n",
       "    }\n",
       "</style>\n",
       "<table border=\"1\" class=\"dataframe\">\n",
       "  <thead>\n",
       "    <tr style=\"text-align: right;\">\n",
       "      <th></th>\n",
       "      <th>region</th>\n",
       "      <th>customer_lifetime_value</th>\n",
       "      <th>response</th>\n",
       "      <th>coverage</th>\n",
       "      <th>education</th>\n",
       "      <th>month</th>\n",
       "      <th>employment_status</th>\n",
       "      <th>gender</th>\n",
       "      <th>income</th>\n",
       "      <th>location_code</th>\n",
       "      <th>...</th>\n",
       "      <th>months_since_last_claim</th>\n",
       "      <th>months_since_policy_inception</th>\n",
       "      <th>number_of_open_complaints</th>\n",
       "      <th>number_of_policies</th>\n",
       "      <th>policy_type</th>\n",
       "      <th>policy</th>\n",
       "      <th>renew_offer_type</th>\n",
       "      <th>sales_channel</th>\n",
       "      <th>vehicle_class</th>\n",
       "      <th>vehicle_size</th>\n",
       "    </tr>\n",
       "  </thead>\n",
       "  <tbody>\n",
       "    <tr>\n",
       "      <th>9877</th>\n",
       "      <td>west region</td>\n",
       "      <td>21423</td>\n",
       "      <td>yes</td>\n",
       "      <td>basic</td>\n",
       "      <td>bachelor</td>\n",
       "      <td>jan</td>\n",
       "      <td>unemployed</td>\n",
       "      <td>m</td>\n",
       "      <td>22379</td>\n",
       "      <td>suburban</td>\n",
       "      <td>...</td>\n",
       "      <td>9</td>\n",
       "      <td>31</td>\n",
       "      <td>0</td>\n",
       "      <td>2</td>\n",
       "      <td>corporate auto</td>\n",
       "      <td>corporate l3</td>\n",
       "      <td>offer2</td>\n",
       "      <td>agent</td>\n",
       "      <td>two-door car</td>\n",
       "      <td>medsize</td>\n",
       "    </tr>\n",
       "    <tr>\n",
       "      <th>10069</th>\n",
       "      <td>west region</td>\n",
       "      <td>8391</td>\n",
       "      <td>no</td>\n",
       "      <td>premium</td>\n",
       "      <td>high school or below</td>\n",
       "      <td>feb</td>\n",
       "      <td>employed</td>\n",
       "      <td>m</td>\n",
       "      <td>40211</td>\n",
       "      <td>suburban</td>\n",
       "      <td>...</td>\n",
       "      <td>5</td>\n",
       "      <td>98</td>\n",
       "      <td>2</td>\n",
       "      <td>6</td>\n",
       "      <td>personal auto</td>\n",
       "      <td>personal l2</td>\n",
       "      <td>offer1</td>\n",
       "      <td>call center</td>\n",
       "      <td>two-door car</td>\n",
       "      <td>small</td>\n",
       "    </tr>\n",
       "    <tr>\n",
       "      <th>10317</th>\n",
       "      <td>central</td>\n",
       "      <td>3969</td>\n",
       "      <td>no</td>\n",
       "      <td>basic</td>\n",
       "      <td>college</td>\n",
       "      <td>feb</td>\n",
       "      <td>employed</td>\n",
       "      <td>f</td>\n",
       "      <td>49544</td>\n",
       "      <td>rural</td>\n",
       "      <td>...</td>\n",
       "      <td>3</td>\n",
       "      <td>29</td>\n",
       "      <td>0</td>\n",
       "      <td>1</td>\n",
       "      <td>personal auto</td>\n",
       "      <td>personal l3</td>\n",
       "      <td>offer1</td>\n",
       "      <td>agent</td>\n",
       "      <td>suv</td>\n",
       "      <td>medsize</td>\n",
       "    </tr>\n",
       "    <tr>\n",
       "      <th>9796</th>\n",
       "      <td>west region</td>\n",
       "      <td>14914</td>\n",
       "      <td>no</td>\n",
       "      <td>basic</td>\n",
       "      <td>bachelor</td>\n",
       "      <td>feb</td>\n",
       "      <td>employed</td>\n",
       "      <td>f</td>\n",
       "      <td>45963</td>\n",
       "      <td>suburban</td>\n",
       "      <td>...</td>\n",
       "      <td>3</td>\n",
       "      <td>73</td>\n",
       "      <td>2</td>\n",
       "      <td>2</td>\n",
       "      <td>personal auto</td>\n",
       "      <td>personal l2</td>\n",
       "      <td>offer1</td>\n",
       "      <td>agent</td>\n",
       "      <td>four-door car</td>\n",
       "      <td>medsize</td>\n",
       "    </tr>\n",
       "    <tr>\n",
       "      <th>8995</th>\n",
       "      <td>east</td>\n",
       "      <td>18060</td>\n",
       "      <td>no</td>\n",
       "      <td>basic</td>\n",
       "      <td>bachelor</td>\n",
       "      <td>jan</td>\n",
       "      <td>employed</td>\n",
       "      <td>f</td>\n",
       "      <td>57882</td>\n",
       "      <td>suburban</td>\n",
       "      <td>...</td>\n",
       "      <td>1</td>\n",
       "      <td>61</td>\n",
       "      <td>0</td>\n",
       "      <td>2</td>\n",
       "      <td>corporate auto</td>\n",
       "      <td>corporate l3</td>\n",
       "      <td>offer1</td>\n",
       "      <td>web</td>\n",
       "      <td>suv</td>\n",
       "      <td>medsize</td>\n",
       "    </tr>\n",
       "  </tbody>\n",
       "</table>\n",
       "<p>5 rows × 22 columns</p>\n",
       "</div>"
      ],
      "text/plain": [
       "            region  customer_lifetime_value response coverage  \\\n",
       "9877   west region                    21423      yes    basic   \n",
       "10069  west region                     8391       no  premium   \n",
       "10317      central                     3969       no    basic   \n",
       "9796   west region                    14914       no    basic   \n",
       "8995          east                    18060       no    basic   \n",
       "\n",
       "                  education month employment_status gender  income  \\\n",
       "9877               bachelor   jan        unemployed      m   22379   \n",
       "10069  high school or below   feb          employed      m   40211   \n",
       "10317               college   feb          employed      f   49544   \n",
       "9796               bachelor   feb          employed      f   45963   \n",
       "8995               bachelor   jan          employed      f   57882   \n",
       "\n",
       "      location_code  ... months_since_last_claim  \\\n",
       "9877       suburban  ...                       9   \n",
       "10069      suburban  ...                       5   \n",
       "10317         rural  ...                       3   \n",
       "9796       suburban  ...                       3   \n",
       "8995       suburban  ...                       1   \n",
       "\n",
       "       months_since_policy_inception  number_of_open_complaints  \\\n",
       "9877                              31                          0   \n",
       "10069                             98                          2   \n",
       "10317                             29                          0   \n",
       "9796                              73                          2   \n",
       "8995                              61                          0   \n",
       "\n",
       "       number_of_policies     policy_type        policy renew_offer_type  \\\n",
       "9877                    2  corporate auto  corporate l3           offer2   \n",
       "10069                   6   personal auto   personal l2           offer1   \n",
       "10317                   1   personal auto   personal l3           offer1   \n",
       "9796                    2   personal auto   personal l2           offer1   \n",
       "8995                    2  corporate auto  corporate l3           offer1   \n",
       "\n",
       "      sales_channel  vehicle_class vehicle_size  \n",
       "9877          agent   two-door car      medsize  \n",
       "10069   call center   two-door car        small  \n",
       "10317         agent            suv      medsize  \n",
       "9796          agent  four-door car      medsize  \n",
       "8995            web            suv      medsize  \n",
       "\n",
       "[5 rows x 22 columns]"
      ]
     },
     "execution_count": 6,
     "metadata": {},
     "output_type": "execute_result"
    }
   ],
   "source": [
    "Xtrain.head()"
   ]
  },
  {
   "cell_type": "markdown",
   "id": "779f33fc-7889-4b1b-84d6-668f4462f88d",
   "metadata": {},
   "source": [
    "## Standardize the data - Train"
   ]
  },
  {
   "cell_type": "code",
   "execution_count": 7,
   "id": "4b61d13f-fbac-40ce-b59a-5dbac11160dd",
   "metadata": {},
   "outputs": [],
   "source": [
    "numerics= Xtrain.select_dtypes(include=np.number)"
   ]
  },
  {
   "cell_type": "code",
   "execution_count": 8,
   "id": "4e2b5258-5d4b-46e9-903f-aa063fbc1d88",
   "metadata": {},
   "outputs": [],
   "source": [
    "categoricals= Xtrain.select_dtypes(include=[\"object\"])"
   ]
  },
  {
   "cell_type": "code",
   "execution_count": 9,
   "id": "0666b61e-998e-4832-9de2-73b85638d6b7",
   "metadata": {},
   "outputs": [],
   "source": [
    "numerics_scaled= MinMaxScaler().fit_transform(numerics)"
   ]
  },
  {
   "cell_type": "raw",
   "id": "242ea26e-6453-4a5f-86b8-53857d2d1aa0",
   "metadata": {},
   "source": [
    "numerics"
   ]
  },
  {
   "cell_type": "code",
   "execution_count": 10,
   "id": "14da97b0-df96-4bc5-93a8-4c7e25a9f3df",
   "metadata": {},
   "outputs": [
    {
     "data": {
      "text/plain": [
       "array([[0.26994332, 0.13686365, 0.01687764, ..., 0.31313131, 0.        ,\n",
       "        0.125     ],\n",
       "       [0.08976911, 0.33520193, 0.18987342, ..., 0.98989899, 0.4       ,\n",
       "        0.625     ],\n",
       "       [0.02863266, 0.4390092 , 0.16877637, ..., 0.29292929, 0.        ,\n",
       "        0.        ],\n",
       "       ...,\n",
       "       [0.0323932 , 0.10855662, 0.01265823, ..., 0.08080808, 0.8       ,\n",
       "        0.875     ],\n",
       "       [0.15267524, 0.74505878, 0.18987342, ..., 0.90909091, 0.        ,\n",
       "        0.125     ],\n",
       "       [0.06980506, 0.59319074, 0.16455696, ..., 0.54545455, 0.        ,\n",
       "        0.75      ]])"
      ]
     },
     "execution_count": 10,
     "metadata": {},
     "output_type": "execute_result"
    }
   ],
   "source": [
    "numerics_scaled"
   ]
  },
  {
   "cell_type": "code",
   "execution_count": 11,
   "id": "afd9459c-92fd-4a1d-91f6-2663e8582c73",
   "metadata": {},
   "outputs": [],
   "source": [
    "categoricals_dummies= categoricals.drop(columns= [\"coverage\", \"education\"], axis=1)"
   ]
  },
  {
   "cell_type": "code",
   "execution_count": null,
   "id": "725dbeb9-e0be-4add-b510-564f0c0206cc",
   "metadata": {},
   "outputs": [],
   "source": [
    "categoricals_ordinal= categoricals.drop(columns= categoricals_dummies.columns, axis=1)"
   ]
  },
  {
   "cell_type": "code",
   "execution_count": null,
   "id": "30435f13-2f2c-4da4-b115-b0d9debdb6f1",
   "metadata": {},
   "outputs": [],
   "source": [
    "categoricals_ordinal"
   ]
  },
  {
   "cell_type": "code",
   "execution_count": null,
   "id": "b2fe3798-a3b5-45f1-99c4-ec558bfee232",
   "metadata": {},
   "outputs": [],
   "source": [
    "categoricals_ordinal[\"education\"].unique()"
   ]
  },
  {
   "cell_type": "code",
   "execution_count": null,
   "id": "1e227b32-f978-47d1-b1ae-79d30e01aa17",
   "metadata": {},
   "outputs": [],
   "source": [
    "categoricals_dummies=pd.get_dummies(categoricals_dummies, drop_first=True)"
   ]
  },
  {
   "cell_type": "code",
   "execution_count": null,
   "id": "baf59242-83dd-4ccb-88a3-7a8bb2fdbe03",
   "metadata": {},
   "outputs": [],
   "source": [
    "categoricals_dummies"
   ]
  },
  {
   "cell_type": "code",
   "execution_count": null,
   "id": "9170048b-45e5-4e22-8edf-816945ac9cfe",
   "metadata": {},
   "outputs": [],
   "source": [
    "categoricals_ordinal= categoricals_ordinal.replace([\"basic\", \"extended\", \"premium\"],[0,1,2])\n",
    "categoricals_ordinal= categoricals_ordinal.replace([\"high school or below\", \"college\", \"bachelor\", \"master\", \"doctor\"],[0,1,2,3,4])"
   ]
  },
  {
   "cell_type": "code",
   "execution_count": null,
   "id": "a3f5adfe-7a1a-4dcc-bfa1-4df742c943a2",
   "metadata": {},
   "outputs": [],
   "source": [
    "categoricals_ordinal"
   ]
  },
  {
   "cell_type": "code",
   "execution_count": null,
   "id": "55c77cb6-cb05-4ff2-80d1-c194e0748797",
   "metadata": {},
   "outputs": [],
   "source": [
    "#df_train=pd.concat([Xtrain, ytrain], axis=1)"
   ]
  },
  {
   "cell_type": "code",
   "execution_count": null,
   "id": "7b4936fd-7d50-42e1-a321-1bdc3ddc106e",
   "metadata": {},
   "outputs": [],
   "source": [
    "data_train= pd.concat([\"numerics_scaled\", \"categoricals_dummies\", \"categoricals_ordinal\"])"
   ]
  },
  {
   "cell_type": "code",
   "execution_count": null,
   "id": "02f4f106-33a0-4cd1-ac27-76f26ad22cc5",
   "metadata": {},
   "outputs": [],
   "source": []
  }
 ],
 "metadata": {
  "kernelspec": {
   "display_name": "Python 3 (ipykernel)",
   "language": "python",
   "name": "python3"
  },
  "language_info": {
   "codemirror_mode": {
    "name": "ipython",
    "version": 3
   },
   "file_extension": ".py",
   "mimetype": "text/x-python",
   "name": "python",
   "nbconvert_exporter": "python",
   "pygments_lexer": "ipython3",
   "version": "3.9.12"
  }
 },
 "nbformat": 4,
 "nbformat_minor": 5
}
